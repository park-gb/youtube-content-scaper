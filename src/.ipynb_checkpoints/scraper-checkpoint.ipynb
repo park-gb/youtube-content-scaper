{
 "cells": [
  {
   "cell_type": "markdown",
   "metadata": {},
   "source": [
    "# 유튜브 콘텐츠 Scrpaer\n",
    "- Contributor: Tony Park\n",
    "- References\n",
    "    - Tistory Blog | https://heytech.tistory.com/\n",
    "    - Github | https://github.com/park-gb\n",
    "- Contact: dev.gbpark (at) gmail (dot) com\n",
    "- Last Updated @2022-10-11 (Conf., update logs in the repository)"
   ]
  },
  {
   "cell_type": "markdown",
   "metadata": {},
   "source": [
    "# 패키지 Import"
   ]
  },
  {
   "cell_type": "code",
   "execution_count": 1,
   "metadata": {},
   "outputs": [],
   "source": [
    "from selenium import webdriver\n",
    "from selenium.webdriver.support.ui import WebDriverWait\n",
    "from selenium.webdriver.support import expected_conditions as EC\n",
    "from selenium.webdriver.common.by import By\n",
    "from selenium.webdriver.common.keys import Keys\n",
    "from webdriver_manager.chrome import ChromeDriverManager\n",
    "from bs4 import BeautifulSoup"
   ]
  },
  {
   "cell_type": "code",
   "execution_count": 2,
   "metadata": {},
   "outputs": [
    {
     "name": "stderr",
     "output_type": "stream",
     "text": [
      "\n",
      "\n",
      "====== WebDriver manager ======\n",
      "Current google-chrome version is 105.0.5195\n",
      "Get LATEST chromedriver version for 105.0.5195 google-chrome\n",
      "Driver [/Users/gbpark/.wdm/drivers/chromedriver/mac64/105.0.5195.52/chromedriver] found in cache\n"
     ]
    }
   ],
   "source": [
    "# 최신 크롬 드라이버 사용하도록 세팅: 현재 OS에 설치된 크롬 브라우저 버전에 맞게 cache에 드라이버 설치\n",
    "from selenium.webdriver.chrome.service import Service\n",
    "service = Service(ChromeDriverManager().install())"
   ]
  },
  {
   "cell_type": "code",
   "execution_count": 3,
   "metadata": {},
   "outputs": [],
   "source": [
    "import time\n",
    "import random\n",
    "import pandas as pd"
   ]
  },
  {
   "cell_type": "markdown",
   "metadata": {
    "tags": []
   },
   "source": [
    "# 무한 스크롤 함수\n",
    "## 1) 기능\n",
    "- 콘텐츠 로딩을 충분히 기다리며 스크롤이 불가할 때까지 스크롤을 무한 반복하는 함수\n",
    "\n",
    "## 2) 역할\n",
    "- 유튜브 웹 페이지는 스크롤을 해야 새로운 콘텐츠 정보를 제공하기 때문에, 모든 검색 결과를 확인하기 위해서는 무한 스크롤 기능 필요"
   ]
  },
  {
   "cell_type": "code",
   "execution_count": 4,
   "metadata": {},
   "outputs": [],
   "source": [
    "def scroll():\n",
    "    try:        \n",
    "        # 페이지 내 스크롤 높이 받아오기\n",
    "        last_page_height = driver.execute_script(\"return document.documentElement.scrollHeight\")\n",
    "        while True:\n",
    "            # 임의의 페이지 로딩 시간 설정\n",
    "            # PC환경에 따라 로딩시간 최적화를 통해 scraping 시간 단축 가능\n",
    "            pause_time = random.uniform(1, 2)\n",
    "            # 페이지 최하단까지 스크롤\n",
    "            driver.execute_script(\"window.scrollTo(0, document.documentElement.scrollHeight);\")\n",
    "            # 페이지 로딩 대기\n",
    "            time.sleep(pause_time)\n",
    "            # 무한 스크롤 동작을 위해 살짝 위로 스크롤(i.e., 페이지를 위로 올렸다가 내리는 제스쳐)\n",
    "            driver.execute_script(\"window.scrollTo(0, document.documentElement.scrollHeight-50)\")\n",
    "            time.sleep(pause_time)\n",
    "            # 페이지 내 스크롤 높이 새롭게 받아오기\n",
    "            new_page_height = driver.execute_script(\"return document.documentElement.scrollHeight\")\n",
    "            # 스크롤을 완료한 경우(더이상 페이지 높이 변화가 없는 경우)\n",
    "            if new_page_height == last_page_height:\n",
    "                print(\"스크롤 완료\")\n",
    "                break\n",
    "                \n",
    "            # 스크롤 완료하지 않은 경우, 최하단까지 스크롤\n",
    "            else:\n",
    "                last_page_height = new_page_height\n",
    "            \n",
    "    except Exception as e:\n",
    "        print(\"에러 발생: \", e)"
   ]
  },
  {
   "cell_type": "markdown",
   "metadata": {
    "tags": []
   },
   "source": [
    "# 데이터 Scrap"
   ]
  },
  {
   "cell_type": "code",
   "execution_count": 5,
   "metadata": {},
   "outputs": [],
   "source": [
    "# 검색 키워드 설정: 키워드 내 띄어쓰기는 URL에서 '+'로 표시되기 때문에 이에 맞게 변환\n",
    "SEARCH_KEYWORD = '잭 니콜라스 GC'.replace(' ', '+')"
   ]
  },
  {
   "cell_type": "code",
   "execution_count": 6,
   "metadata": {},
   "outputs": [
    {
     "name": "stdout",
     "output_type": "stream",
     "text": [
      "스크롤 완료\n"
     ]
    }
   ],
   "source": [
    "driver = webdriver.Chrome(service=service)\n",
    "# 스크래핑 할 URL 세팅\n",
    "URL = \"https://www.youtube.com/results?search_query=\" + SEARCH_KEYWORD\n",
    "# 크롬 드라이버를 통해 지정한 URL의 웹 페이지 오픈\n",
    "driver.get(URL)\n",
    "# 웹 페이지 로딩 대기\n",
    "time.sleep(3)\n",
    "# 무한 스크롤 함수 실행\n",
    "scroll()"
   ]
  },
  {
   "cell_type": "code",
   "execution_count": 7,
   "metadata": {},
   "outputs": [],
   "source": [
    "# 페이지 소스 추출\n",
    "html_source = driver.page_source\n",
    "soup_source = BeautifulSoup(html_source, 'html.parser')"
   ]
  },
  {
   "cell_type": "markdown",
   "metadata": {},
   "source": [
    "# 데이터 추출"
   ]
  },
  {
   "cell_type": "code",
   "execution_count": 8,
   "metadata": {
    "scrolled": true
   },
   "outputs": [],
   "source": [
    "# 콘텐츠 모든 정보\n",
    "content_total = soup_source.find_all(class_ = 'yt-simple-endpoint style-scope ytd-video-renderer')\n",
    "# 콘텐츠 제목만 추출\n",
    "content_total_title = list(map(lambda data: data.get_text().replace(\"\\n\", \"\"), content_total))\n",
    "# 콘텐츠 링크만 추출\n",
    "content_total_link = list(map(lambda data: \"https://youtube.com\" + data[\"href\"], content_total))\n",
    "\n",
    "#--------조회수 & 업로드 날짜 추출(Updated at 2022-10-11)--------#\n",
    "content_record_src = soup_source.find_all(class_ = 'style-scope ytd-video-meta-block')\n",
    "content_view_cnt = [content_record_src[i].get_text().replace('조회수 ', '') for i in range(5, len(content_record_src), 10)]\n",
    "content_upload_date = [content_record_src[i].get_text() for i in range(6, len(content_record_src), 10)]\n",
    "#---------------------------------------------------------#\n",
    "\n",
    "# 딕셔너리 포맷팅\n",
    "content_total_dict = {'title'       : content_total_title, \n",
    "                      'link'        : content_total_link, \n",
    "                      'view'        : content_view_cnt,\n",
    "                      'upload_date' : content_upload_date\n",
    "                     }"
   ]
  },
  {
   "cell_type": "markdown",
   "metadata": {},
   "source": [
    "# 데이터프레임 저장"
   ]
  },
  {
   "cell_type": "code",
   "execution_count": 9,
   "metadata": {},
   "outputs": [],
   "source": [
    "df = pd.DataFrame(content_total_dict)\n",
    "df.to_csv(\"../data/content_total.csv\", encoding='utf-8-sig')"
   ]
  },
  {
   "cell_type": "markdown",
   "metadata": {},
   "source": [
    "# 데이터 확인"
   ]
  },
  {
   "cell_type": "code",
   "execution_count": 10,
   "metadata": {},
   "outputs": [
    {
     "data": {
      "text/html": [
       "<div>\n",
       "<style scoped>\n",
       "    .dataframe tbody tr th:only-of-type {\n",
       "        vertical-align: middle;\n",
       "    }\n",
       "\n",
       "    .dataframe tbody tr th {\n",
       "        vertical-align: top;\n",
       "    }\n",
       "\n",
       "    .dataframe thead th {\n",
       "        text-align: right;\n",
       "    }\n",
       "</style>\n",
       "<table border=\"1\" class=\"dataframe\">\n",
       "  <thead>\n",
       "    <tr style=\"text-align: right;\">\n",
       "      <th></th>\n",
       "      <th>title</th>\n",
       "      <th>link</th>\n",
       "      <th>view</th>\n",
       "      <th>upload_date</th>\n",
       "    </tr>\n",
       "  </thead>\n",
       "  <tbody>\n",
       "    <tr>\n",
       "      <th>0</th>\n",
       "      <td>잭니클라우스GC, 포스코 품으로…홀당 160억 넘겼다</td>\n",
       "      <td>https://youtube.com/watch?v=EPTyyBdZUvo</td>\n",
       "      <td>8.9천회</td>\n",
       "      <td>3개월 전</td>\n",
       "    </tr>\n",
       "    <tr>\n",
       "      <th>1</th>\n",
       "      <td>인천대학교 송도캠퍼스 잭니클라우스GC코리아/  Incheon National Uni...</td>\n",
       "      <td>https://youtube.com/watch?v=wG8Hg4rvQRA</td>\n",
       "      <td>223회</td>\n",
       "      <td>1년 전</td>\n",
       "    </tr>\n",
       "    <tr>\n",
       "      <th>2</th>\n",
       "      <td>⛳️국내 명문 골프장 다녀왔어요! 잭니클라우스cc + 트리니티클럽</td>\n",
       "      <td>https://youtube.com/watch?v=7NsMUnR68qE</td>\n",
       "      <td>6.6만회</td>\n",
       "      <td>1년 전</td>\n",
       "    </tr>\n",
       "    <tr>\n",
       "      <th>3</th>\n",
       "      <td>제네시스 챔피언십 (Genesis championship) feat.잭니클라우스GC...</td>\n",
       "      <td>https://youtube.com/watch?v=XEQikTNQXQs</td>\n",
       "      <td>6회</td>\n",
       "      <td>2시간 전</td>\n",
       "    </tr>\n",
       "    <tr>\n",
       "      <th>4</th>\n",
       "      <td>송도 잭니클라우스GC</td>\n",
       "      <td>https://youtube.com/watch?v=21rg1VYBIkY</td>\n",
       "      <td>511회</td>\n",
       "      <td>2주 전</td>\n",
       "    </tr>\n",
       "    <tr>\n",
       "      <th>...</th>\n",
       "      <td>...</td>\n",
       "      <td>...</td>\n",
       "      <td>...</td>\n",
       "      <td>...</td>\n",
       "    </tr>\n",
       "    <tr>\n",
       "      <th>567</th>\n",
       "      <td>내가 퍼터를 못쓴다고요? 퍼터의 황제 오언으로 보여줄게</td>\n",
       "      <td>https://youtube.com/watch?v=oEv4IQ7vk24</td>\n",
       "      <td>47만회</td>\n",
       "      <td>2주 전</td>\n",
       "    </tr>\n",
       "    <tr>\n",
       "      <th>568</th>\n",
       "      <td>Vegas Golden Knights 2022-23 Season Preview w/...</td>\n",
       "      <td>https://youtube.com/shorts/1dBkngglpPA</td>\n",
       "      <td>2.7천회</td>\n",
       "      <td>1일 전</td>\n",
       "    </tr>\n",
       "    <tr>\n",
       "      <th>569</th>\n",
       "      <td>[NCC 프로젝트] EP-06 | 납프타 열분해 (화학/화공 4학년) | NCC 공정</td>\n",
       "      <td>https://youtube.com/watch?v=S3a0-p10B-c</td>\n",
       "      <td>388회</td>\n",
       "      <td>1일 전</td>\n",
       "    </tr>\n",
       "    <tr>\n",
       "      <th>570</th>\n",
       "      <td>😶 #KOTAKITARP</td>\n",
       "      <td>https://youtube.com/watch?v=7SkWumqLZuY</td>\n",
       "      <td>3.8천회</td>\n",
       "      <td>스트리밍 시간: 4일 전</td>\n",
       "    </tr>\n",
       "    <tr>\n",
       "      <th>571</th>\n",
       "      <td>Joan Rivers Set of 2 Nesting Crystal Bar Neckl...</td>\n",
       "      <td>https://youtube.com/watch?v=qKCvB9i3w2U</td>\n",
       "      <td>29회</td>\n",
       "      <td>1일 전</td>\n",
       "    </tr>\n",
       "  </tbody>\n",
       "</table>\n",
       "<p>572 rows × 4 columns</p>\n",
       "</div>"
      ],
      "text/plain": [
       "                                                 title  \\\n",
       "0                        잭니클라우스GC, 포스코 품으로…홀당 160억 넘겼다   \n",
       "1    인천대학교 송도캠퍼스 잭니클라우스GC코리아/  Incheon National Uni...   \n",
       "2                 ⛳️국내 명문 골프장 다녀왔어요! 잭니클라우스cc + 트리니티클럽   \n",
       "3    제네시스 챔피언십 (Genesis championship) feat.잭니클라우스GC...   \n",
       "4                                          송도 잭니클라우스GC   \n",
       "..                                                 ...   \n",
       "567                     내가 퍼터를 못쓴다고요? 퍼터의 황제 오언으로 보여줄게   \n",
       "568  Vegas Golden Knights 2022-23 Season Preview w/...   \n",
       "569    [NCC 프로젝트] EP-06 | 납프타 열분해 (화학/화공 4학년) | NCC 공정   \n",
       "570                                      😶 #KOTAKITARP   \n",
       "571  Joan Rivers Set of 2 Nesting Crystal Bar Neckl...   \n",
       "\n",
       "                                        link   view    upload_date  \n",
       "0    https://youtube.com/watch?v=EPTyyBdZUvo  8.9천회          3개월 전  \n",
       "1    https://youtube.com/watch?v=wG8Hg4rvQRA   223회           1년 전  \n",
       "2    https://youtube.com/watch?v=7NsMUnR68qE  6.6만회           1년 전  \n",
       "3    https://youtube.com/watch?v=XEQikTNQXQs     6회          2시간 전  \n",
       "4    https://youtube.com/watch?v=21rg1VYBIkY   511회           2주 전  \n",
       "..                                       ...    ...            ...  \n",
       "567  https://youtube.com/watch?v=oEv4IQ7vk24   47만회           2주 전  \n",
       "568   https://youtube.com/shorts/1dBkngglpPA  2.7천회           1일 전  \n",
       "569  https://youtube.com/watch?v=S3a0-p10B-c   388회           1일 전  \n",
       "570  https://youtube.com/watch?v=7SkWumqLZuY  3.8천회  스트리밍 시간: 4일 전  \n",
       "571  https://youtube.com/watch?v=qKCvB9i3w2U    29회           1일 전  \n",
       "\n",
       "[572 rows x 4 columns]"
      ]
     },
     "execution_count": 10,
     "metadata": {},
     "output_type": "execute_result"
    }
   ],
   "source": [
    "df"
   ]
  },
  {
   "cell_type": "code",
   "execution_count": null,
   "metadata": {},
   "outputs": [],
   "source": []
  }
 ],
 "metadata": {
  "kernelspec": {
   "display_name": "youtube-content-scraper",
   "language": "python",
   "name": "youtube-content-scraper"
  },
  "language_info": {
   "codemirror_mode": {
    "name": "ipython",
    "version": 3
   },
   "file_extension": ".py",
   "mimetype": "text/x-python",
   "name": "python",
   "nbconvert_exporter": "python",
   "pygments_lexer": "ipython3",
   "version": "3.8.1"
  }
 },
 "nbformat": 4,
 "nbformat_minor": 4
}
