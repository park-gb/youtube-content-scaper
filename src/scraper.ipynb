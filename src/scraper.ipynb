{
 "cells": [
  {
   "cell_type": "markdown",
   "metadata": {},
   "source": [
    "# 유튜브 콘텐츠 Scrpaer\n",
    "- Contributor: Tony Park\n",
    "- References\n",
    "    - Tistory Blog | https://heytech.tistory.com/\n",
    "    - Github | https://github.com/park-gb\n",
    "- Contact: dev.gbpark (at) gmail (dot) com\n",
    "- Last Updated @2022-03-07"
   ]
  },
  {
   "cell_type": "markdown",
   "metadata": {},
   "source": [
    "# 패키지 Import"
   ]
  },
  {
   "cell_type": "code",
   "execution_count": 1,
   "metadata": {},
   "outputs": [],
   "source": [
    "from selenium import webdriver\n",
    "from selenium.webdriver.support.ui import WebDriverWait\n",
    "from selenium.webdriver.support import expected_conditions as EC\n",
    "from selenium.webdriver.common.by import By\n",
    "from selenium.webdriver.common.keys import Keys\n",
    "from webdriver_manager.chrome import ChromeDriverManager\n",
    "from bs4 import BeautifulSoup"
   ]
  },
  {
   "cell_type": "code",
   "execution_count": 2,
   "metadata": {},
   "outputs": [
    {
     "name": "stderr",
     "output_type": "stream",
     "text": [
      "\n",
      "\n",
      "====== WebDriver manager ======\n",
      "Current google-chrome version is 98.0.4758\n",
      "Get LATEST chromedriver version for 98.0.4758 google-chrome\n",
      "Driver [/Users/gbpark/.wdm/drivers/chromedriver/mac64/98.0.4758.102/chromedriver] found in cache\n"
     ]
    }
   ],
   "source": [
    "# 최신 크롬 드라이버 사용하도록 세팅: 현재 OS에 설치된 크롬 브라우저 버전에 맞게 cache에 드라이버 설치\n",
    "from selenium.webdriver.chrome.service import Service\n",
    "service = Service(ChromeDriverManager().install())"
   ]
  },
  {
   "cell_type": "code",
   "execution_count": 3,
   "metadata": {},
   "outputs": [],
   "source": [
    "import time\n",
    "import random\n",
    "import pandas as pd"
   ]
  },
  {
   "cell_type": "markdown",
   "metadata": {
    "tags": []
   },
   "source": [
    "# 무한 스크롤 함수\n",
    "## 1) 기능\n",
    "- 콘텐츠 로딩을 충분히 기다리며 스크롤이 불가할 때까지 스크롤을 무한 반복하는 함수\n",
    "\n",
    "## 2) 역할\n",
    "- 유튜브 웹 페이지는 스크롤을 해야 새로운 콘텐츠 정보를 제공하기 때문에, 모든 검색 결과를 확인하기 위해서는 무한 스크롤 기능 필요"
   ]
  },
  {
   "cell_type": "code",
   "execution_count": 4,
   "metadata": {},
   "outputs": [],
   "source": [
    "def scroll():\n",
    "    try:        \n",
    "        # 페이지 내 스크롤 높이 받아오기\n",
    "        last_page_height = driver.execute_script(\"return document.documentElement.scrollHeight\")\n",
    "        while True:\n",
    "            # 임의의 페이지 로딩 시간 설정\n",
    "            # PC환경에 따라 로딩시간 최적화를 통해 scraping 시간 단축 가능\n",
    "            pause_time = random.uniform(1, 2)\n",
    "            # 페이지 최하단까지 스크롤\n",
    "            driver.execute_script(\"window.scrollTo(0, document.documentElement.scrollHeight);\")\n",
    "            # 페이지 로딩 대기\n",
    "            time.sleep(pause_time)\n",
    "            # 무한 스크롤 동작을 위해 살짝 위로 스크롤(i.e., 페이지를 위로 올렸다가 내리는 제스쳐)\n",
    "            driver.execute_script(\"window.scrollTo(0, document.documentElement.scrollHeight-50)\")\n",
    "            time.sleep(pause_time)\n",
    "            # 페이지 내 스크롤 높이 새롭게 받아오기\n",
    "            new_page_height = driver.execute_script(\"return document.documentElement.scrollHeight\")\n",
    "            # 스크롤을 완료한 경우(더이상 페이지 높이 변화가 없는 경우)\n",
    "            if new_page_height == last_page_height:\n",
    "                print(\"스크롤 완료\")\n",
    "                break\n",
    "                \n",
    "            # 스크롤 완료하지 않은 경우, 최하단까지 스크롤\n",
    "            else:\n",
    "                last_page_height = new_page_height\n",
    "            \n",
    "    except Exception as e:\n",
    "        print(\"에러 발생: \", e)"
   ]
  },
  {
   "cell_type": "markdown",
   "metadata": {
    "tags": []
   },
   "source": [
    "# 데이터 Scrap"
   ]
  },
  {
   "cell_type": "code",
   "execution_count": 5,
   "metadata": {},
   "outputs": [],
   "source": [
    "# 검색 키워드 설정: 키워드 내 띄어쓰기는 URL에서 '+'로 표시되기 때문에 이에 맞게 변환\n",
    "SEARCH_KEYWORD = '잭 니콜라스 GC'.replace(' ', '+')"
   ]
  },
  {
   "cell_type": "code",
   "execution_count": 6,
   "metadata": {},
   "outputs": [
    {
     "name": "stdout",
     "output_type": "stream",
     "text": [
      "스크롤 완료\n"
     ]
    }
   ],
   "source": [
    "driver = webdriver.Chrome(service=service)\n",
    "# 스크래핑 할 URL 세팅\n",
    "URL = \"https://www.youtube.com/results?search_query=\" + SEARCH_KEYWORD\n",
    "# 크롬 드라이버를 통해 지정한 URL의 웹 페이지 오픈\n",
    "driver.get(URL)\n",
    "# 웹 페이지 로딩 대기\n",
    "time.sleep(3)\n",
    "# 무한 스크롤 함수 실행\n",
    "scroll()"
   ]
  },
  {
   "cell_type": "code",
   "execution_count": 7,
   "metadata": {},
   "outputs": [],
   "source": [
    "# 페이지 소스 추출\n",
    "html_source = driver.page_source\n",
    "soup_source = BeautifulSoup(html_source, 'html.parser')"
   ]
  },
  {
   "cell_type": "markdown",
   "metadata": {},
   "source": [
    "# 데이터 추출"
   ]
  },
  {
   "cell_type": "code",
   "execution_count": 8,
   "metadata": {},
   "outputs": [],
   "source": [
    "# 모든 콘텐츠 정보\n",
    "content_total = soup_source.find_all(class_ = 'yt-simple-endpoint style-scope ytd-video-renderer')\n",
    "# 콘텐츠 제목만 추출\n",
    "content_total_title = list(map(lambda data: data.get_text().replace(\"\\n\", \"\"), content_total))\n",
    "# 콘텐츠 링크만 추출\n",
    "content_total_link = list(map(lambda data: \"https://youtube.com\" + data[\"href\"], content_total))\n",
    "# 딕셔너리 포맷팅\n",
    "content_total_dict = {'title' : content_total_title, 'link': content_total_link}"
   ]
  },
  {
   "cell_type": "markdown",
   "metadata": {},
   "source": [
    "# 데이터프레임 저장"
   ]
  },
  {
   "cell_type": "code",
   "execution_count": 9,
   "metadata": {},
   "outputs": [],
   "source": [
    "df = pd.DataFrame(content_total_dict)\n",
    "df.to_csv(\"../data/content_total.csv\", encoding='utf-8-sig')"
   ]
  },
  {
   "cell_type": "markdown",
   "metadata": {},
   "source": [
    "# 데이터 확인"
   ]
  },
  {
   "cell_type": "code",
   "execution_count": 10,
   "metadata": {},
   "outputs": [
    {
     "data": {
      "text/html": [
       "<div>\n",
       "<style scoped>\n",
       "    .dataframe tbody tr th:only-of-type {\n",
       "        vertical-align: middle;\n",
       "    }\n",
       "\n",
       "    .dataframe tbody tr th {\n",
       "        vertical-align: top;\n",
       "    }\n",
       "\n",
       "    .dataframe thead th {\n",
       "        text-align: right;\n",
       "    }\n",
       "</style>\n",
       "<table border=\"1\" class=\"dataframe\">\n",
       "  <thead>\n",
       "    <tr style=\"text-align: right;\">\n",
       "      <th></th>\n",
       "      <th>title</th>\n",
       "      <th>link</th>\n",
       "    </tr>\n",
       "  </thead>\n",
       "  <tbody>\n",
       "    <tr>\n",
       "      <th>0</th>\n",
       "      <td>[1986]하나같이 열광했던 잭니클라우스</td>\n",
       "      <td>https://youtube.com/watch?v=3ay-rFgC-mc</td>\n",
       "    </tr>\n",
       "    <tr>\n",
       "      <th>1</th>\n",
       "      <td>회원권이 무려 10억원이 넘는다는 잭니클라우스cc [골프도하 골프장 v-log]</td>\n",
       "      <td>https://youtube.com/watch?v=BGSQOJaCMek</td>\n",
       "    </tr>\n",
       "    <tr>\n",
       "      <th>2</th>\n",
       "      <td>아무나 못가는 국내 명문 회원제 골프장 TOP20</td>\n",
       "      <td>https://youtube.com/watch?v=AjKR5Nc-Lac</td>\n",
       "    </tr>\n",
       "    <tr>\n",
       "      <th>3</th>\n",
       "      <td>[EP.22-1] 국내 최고의 프라이빗 코스! PRESIDENTS CUP과 GENE...</td>\n",
       "      <td>https://youtube.com/watch?v=uemppDgs3wE</td>\n",
       "    </tr>\n",
       "    <tr>\n",
       "      <th>4</th>\n",
       "      <td>프레지던츠컵~ 배상문 아이언샷, 잭니클라우스GC [스윙학개론_Presidents CUP]</td>\n",
       "      <td>https://youtube.com/watch?v=_wY8nU6Fj5U</td>\n",
       "    </tr>\n",
       "    <tr>\n",
       "      <th>...</th>\n",
       "      <td>...</td>\n",
       "      <td>...</td>\n",
       "    </tr>\n",
       "    <tr>\n",
       "      <th>129</th>\n",
       "      <td>Gacha Cringe Comp #18 (Gay Heat Edition)</td>\n",
       "      <td>https://youtube.com/watch?v=F3fLXtGPMfE</td>\n",
       "    </tr>\n",
       "    <tr>\n",
       "      <th>130</th>\n",
       "      <td>HINALIKAN KO‼️ NAGALIT ANG ASAWA</td>\n",
       "      <td>https://youtube.com/watch?v=W9McXV4JAEk</td>\n",
       "    </tr>\n",
       "    <tr>\n",
       "      <th>131</th>\n",
       "      <td>보고 피라미드 조사 퀘스트라인 &amp; 음성 텍스트 다이얼로그 (경이 월도 퀘스트) (D...</td>\n",
       "      <td>https://youtube.com/watch?v=dVbaOe9onPc</td>\n",
       "    </tr>\n",
       "    <tr>\n",
       "      <th>132</th>\n",
       "      <td>Contract J.A.C.K. - Chapter 2: Trial by Gunfir...</td>\n",
       "      <td>https://youtube.com/watch?v=b9jHmt57jJI</td>\n",
       "    </tr>\n",
       "    <tr>\n",
       "      <th>133</th>\n",
       "      <td>Contract J.A.C.K. - Chapter 3 : Welcome to Cze...</td>\n",
       "      <td>https://youtube.com/watch?v=K4N1RSOm-mQ</td>\n",
       "    </tr>\n",
       "  </tbody>\n",
       "</table>\n",
       "<p>134 rows × 2 columns</p>\n",
       "</div>"
      ],
      "text/plain": [
       "                                                 title  \\\n",
       "0                               [1986]하나같이 열광했던 잭니클라우스   \n",
       "1         회원권이 무려 10억원이 넘는다는 잭니클라우스cc [골프도하 골프장 v-log]   \n",
       "2                          아무나 못가는 국내 명문 회원제 골프장 TOP20   \n",
       "3    [EP.22-1] 국내 최고의 프라이빗 코스! PRESIDENTS CUP과 GENE...   \n",
       "4    프레지던츠컵~ 배상문 아이언샷, 잭니클라우스GC [스윙학개론_Presidents CUP]   \n",
       "..                                                 ...   \n",
       "129           Gacha Cringe Comp #18 (Gay Heat Edition)   \n",
       "130                   HINALIKAN KO‼️ NAGALIT ANG ASAWA   \n",
       "131  보고 피라미드 조사 퀘스트라인 & 음성 텍스트 다이얼로그 (경이 월도 퀘스트) (D...   \n",
       "132  Contract J.A.C.K. - Chapter 2: Trial by Gunfir...   \n",
       "133  Contract J.A.C.K. - Chapter 3 : Welcome to Cze...   \n",
       "\n",
       "                                        link  \n",
       "0    https://youtube.com/watch?v=3ay-rFgC-mc  \n",
       "1    https://youtube.com/watch?v=BGSQOJaCMek  \n",
       "2    https://youtube.com/watch?v=AjKR5Nc-Lac  \n",
       "3    https://youtube.com/watch?v=uemppDgs3wE  \n",
       "4    https://youtube.com/watch?v=_wY8nU6Fj5U  \n",
       "..                                       ...  \n",
       "129  https://youtube.com/watch?v=F3fLXtGPMfE  \n",
       "130  https://youtube.com/watch?v=W9McXV4JAEk  \n",
       "131  https://youtube.com/watch?v=dVbaOe9onPc  \n",
       "132  https://youtube.com/watch?v=b9jHmt57jJI  \n",
       "133  https://youtube.com/watch?v=K4N1RSOm-mQ  \n",
       "\n",
       "[134 rows x 2 columns]"
      ]
     },
     "execution_count": 10,
     "metadata": {},
     "output_type": "execute_result"
    }
   ],
   "source": [
    "df"
   ]
  },
  {
   "cell_type": "code",
   "execution_count": null,
   "metadata": {},
   "outputs": [],
   "source": []
  }
 ],
 "metadata": {
  "kernelspec": {
   "display_name": "youtube-content-scraper",
   "language": "python",
   "name": "youtube-content-scraper"
  },
  "language_info": {
   "codemirror_mode": {
    "name": "ipython",
    "version": 3
   },
   "file_extension": ".py",
   "mimetype": "text/x-python",
   "name": "python",
   "nbconvert_exporter": "python",
   "pygments_lexer": "ipython3",
   "version": "3.8.1"
  }
 },
 "nbformat": 4,
 "nbformat_minor": 4
}
